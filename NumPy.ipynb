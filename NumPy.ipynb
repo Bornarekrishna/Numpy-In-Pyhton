{
  "nbformat": 4,
  "nbformat_minor": 0,
  "metadata": {
    "colab": {
      "provenance": [],
      "authorship_tag": "ABX9TyN2/Jzl/bOFt9HrCiXPvNZ2"
    },
    "kernelspec": {
      "name": "python3",
      "display_name": "Python 3"
    },
    "language_info": {
      "name": "python"
    }
  },
  "cells": [
    {
      "cell_type": "markdown",
      "source": [
        "Numpy in Python"
      ],
      "metadata": {
        "id": "T-5cbhf3YLPf"
      }
    },
    {
      "cell_type": "code",
      "execution_count": null,
      "metadata": {
        "colab": {
          "base_uri": "https://localhost:8080/"
        },
        "id": "Ohe6BSk90d0t",
        "outputId": "bd8019a0-523c-49de-cab1-3ef1f40aab63"
      },
      "outputs": [
        {
          "output_type": "stream",
          "name": "stdout",
          "text": [
            "1.22.4\n"
          ]
        }
      ],
      "source": [
        "import numpy as np\n",
        "\n",
        "print(np.__version__)"
      ]
    },
    {
      "cell_type": "code",
      "source": [
        "arr1=np.array([1,2,3,4,5,6,7,8,9])\n",
        "arr1"
      ],
      "metadata": {
        "colab": {
          "base_uri": "https://localhost:8080/"
        },
        "id": "L6nn1L5o08Th",
        "outputId": "0662631d-f72a-4c8f-e61c-4dcf53306401"
      },
      "execution_count": null,
      "outputs": [
        {
          "output_type": "execute_result",
          "data": {
            "text/plain": [
              "array([1, 2, 3, 4, 5, 6, 7, 8, 9])"
            ]
          },
          "metadata": {},
          "execution_count": 2
        }
      ]
    },
    {
      "cell_type": "code",
      "source": [
        "arr2=np.array([1.5,2.5,3.5,4.5,5.0,6.0,7.0])\n",
        "arr2"
      ],
      "metadata": {
        "colab": {
          "base_uri": "https://localhost:8080/"
        },
        "id": "IOQzFlL0082z",
        "outputId": "232d2c1d-023b-420f-9e8a-423a92cb1af0"
      },
      "execution_count": null,
      "outputs": [
        {
          "output_type": "execute_result",
          "data": {
            "text/plain": [
              "array([1.5, 2.5, 3.5, 4.5, 5. , 6. , 7. ])"
            ]
          },
          "metadata": {},
          "execution_count": 3
        }
      ]
    },
    {
      "cell_type": "code",
      "source": [
        "arr1.dtype"
      ],
      "metadata": {
        "colab": {
          "base_uri": "https://localhost:8080/"
        },
        "id": "M0lxcO6Y4Qni",
        "outputId": "2dfba872-4453-4ef1-9051-ab913fc6cf1a"
      },
      "execution_count": null,
      "outputs": [
        {
          "output_type": "execute_result",
          "data": {
            "text/plain": [
              "dtype('int64')"
            ]
          },
          "metadata": {},
          "execution_count": 4
        }
      ]
    },
    {
      "cell_type": "code",
      "source": [
        "arr1.astype('float')"
      ],
      "metadata": {
        "colab": {
          "base_uri": "https://localhost:8080/"
        },
        "id": "A1b0Yw7l5PUh",
        "outputId": "c920284e-80ff-4ae8-a140-07bc208c67e3"
      },
      "execution_count": null,
      "outputs": [
        {
          "output_type": "execute_result",
          "data": {
            "text/plain": [
              "array([1., 2., 3., 4., 5., 6., 7., 8., 9.])"
            ]
          },
          "metadata": {},
          "execution_count": 5
        }
      ]
    },
    {
      "cell_type": "code",
      "source": [
        "arr3 = np.array([1,2,3,4,5],dtype='float32')\n",
        "arr3"
      ],
      "metadata": {
        "colab": {
          "base_uri": "https://localhost:8080/"
        },
        "id": "Pqlt2BNS6J_y",
        "outputId": "6bc0813f-794b-4618-d259-cb728517f3e3"
      },
      "execution_count": null,
      "outputs": [
        {
          "output_type": "execute_result",
          "data": {
            "text/plain": [
              "array([1., 2., 3., 4., 5.], dtype=float32)"
            ]
          },
          "metadata": {},
          "execution_count": 6
        }
      ]
    },
    {
      "cell_type": "code",
      "source": [
        "arr2.dtype"
      ],
      "metadata": {
        "colab": {
          "base_uri": "https://localhost:8080/"
        },
        "id": "Q4Sld85C6LPr",
        "outputId": "89bdc6c9-5dc6-4cfe-b481-2cb75c1c8447"
      },
      "execution_count": null,
      "outputs": [
        {
          "output_type": "execute_result",
          "data": {
            "text/plain": [
              "dtype('float64')"
            ]
          },
          "metadata": {},
          "execution_count": 7
        }
      ]
    },
    {
      "cell_type": "code",
      "source": [
        "# 1.An Array is create by list method:\n",
        "Arr1 = np.array([1,2,3,4,5,6,7,8,9,10])\n",
        "Arr1"
      ],
      "metadata": {
        "colab": {
          "base_uri": "https://localhost:8080/"
        },
        "id": "FwCmfGGV9FUB",
        "outputId": "d5bbdcba-f12a-4cda-8862-42af0e8b4ead"
      },
      "execution_count": null,
      "outputs": [
        {
          "output_type": "execute_result",
          "data": {
            "text/plain": [
              "array([ 1,  2,  3,  4,  5,  6,  7,  8,  9, 10])"
            ]
          },
          "metadata": {},
          "execution_count": 8
        }
      ]
    },
    {
      "cell_type": "code",
      "source": [
        "# 2.An array of length 10, filled with 0:\n",
        "Arr2 = np.zeros(10)\n",
        "Arr2"
      ],
      "metadata": {
        "colab": {
          "base_uri": "https://localhost:8080/"
        },
        "id": "PyluhUXW-3VU",
        "outputId": "e54cc5b5-7cfd-44ed-873c-ce1fd047a492"
      },
      "execution_count": null,
      "outputs": [
        {
          "output_type": "execute_result",
          "data": {
            "text/plain": [
              "array([0., 0., 0., 0., 0., 0., 0., 0., 0., 0.])"
            ]
          },
          "metadata": {},
          "execution_count": 9
        }
      ]
    },
    {
      "cell_type": "code",
      "source": [
        "# 2.An array of length 5, filled with 1.0:\n",
        "Arr2 = np.ones((5,2))\n",
        "Arr2"
      ],
      "metadata": {
        "colab": {
          "base_uri": "https://localhost:8080/"
        },
        "id": "5yqKqzxv_2FW",
        "outputId": "fdf01c1c-d2d2-42b6-e2b7-8279b5f24130"
      },
      "execution_count": null,
      "outputs": [
        {
          "output_type": "execute_result",
          "data": {
            "text/plain": [
              "array([[1., 1.],\n",
              "       [1., 1.],\n",
              "       [1., 1.],\n",
              "       [1., 1.],\n",
              "       [1., 1.]])"
            ]
          },
          "metadata": {},
          "execution_count": 10
        }
      ]
    },
    {
      "cell_type": "code",
      "source": [
        "# 3.Going up to 20\n",
        "Arr3 = np.arange(0,20)\n",
        "Arr3"
      ],
      "metadata": {
        "colab": {
          "base_uri": "https://localhost:8080/"
        },
        "id": "yqrL3yENAecA",
        "outputId": "ec5cee3b-ee43-4ac3-e640-5c85e803ed1e"
      },
      "execution_count": null,
      "outputs": [
        {
          "output_type": "execute_result",
          "data": {
            "text/plain": [
              "array([ 0,  1,  2,  3,  4,  5,  6,  7,  8,  9, 10, 11, 12, 13, 14, 15, 16,\n",
              "       17, 18, 19])"
            ]
          },
          "metadata": {},
          "execution_count": 11
        }
      ]
    },
    {
      "cell_type": "code",
      "source": [
        "# 4.An array of 5 numbers, linearly spaced between 10 and 20\n",
        "Arr4 = np.linspace(10,20,5)\n",
        "Arr4"
      ],
      "metadata": {
        "colab": {
          "base_uri": "https://localhost:8080/"
        },
        "id": "LYh8HwujBlFK",
        "outputId": "8fee20f6-0f91-4eb7-8184-5571743edb5f"
      },
      "execution_count": null,
      "outputs": [
        {
          "output_type": "execute_result",
          "data": {
            "text/plain": [
              "array([10. , 12.5, 15. , 17.5, 20. ])"
            ]
          },
          "metadata": {},
          "execution_count": 12
        }
      ]
    },
    {
      "cell_type": "code",
      "source": [
        "# 5.An array of the given shape and populate it with random\n",
        "# samples. You can also try using \"randint\" and \"normal\"\n",
        "Arr5 = np.random.random((3, 3))\n",
        "Arr5"
      ],
      "metadata": {
        "colab": {
          "base_uri": "https://localhost:8080/"
        },
        "id": "_j8xy5DiCnnR",
        "outputId": "958a06d2-0c79-421a-90ea-26a57145da93"
      },
      "execution_count": null,
      "outputs": [
        {
          "output_type": "execute_result",
          "data": {
            "text/plain": [
              "array([[0.3998969 , 0.42519994, 0.30488944],\n",
              "       [0.38314342, 0.53006944, 0.02102422],\n",
              "       [0.71477081, 0.0522087 , 0.84672078]])"
            ]
          },
          "metadata": {},
          "execution_count": 13
        }
      ]
    },
    {
      "cell_type": "code",
      "source": [
        "# 6.using Identity funtion,\n",
        "#daigonal are 1\n",
        "Arr6 = np.identity(5)\n",
        "Arr6"
      ],
      "metadata": {
        "colab": {
          "base_uri": "https://localhost:8080/"
        },
        "id": "mnmT1-uxDyOF",
        "outputId": "6b41f7d7-5131-4f4c-edd0-e0cc9dfd1fa4"
      },
      "execution_count": null,
      "outputs": [
        {
          "output_type": "execute_result",
          "data": {
            "text/plain": [
              "array([[1., 0., 0., 0., 0.],\n",
              "       [0., 1., 0., 0., 0.],\n",
              "       [0., 0., 1., 0., 0.],\n",
              "       [0., 0., 0., 1., 0.],\n",
              "       [0., 0., 0., 0., 1.]])"
            ]
          },
          "metadata": {},
          "execution_count": 14
        }
      ]
    },
    {
      "cell_type": "code",
      "source": [
        "# No. of dimensional array\n",
        "print(\"Number of dimensions:-\", Arr1.ndim)\n",
        "print(\"Number of dimensions:-\", Arr2.ndim)"
      ],
      "metadata": {
        "colab": {
          "base_uri": "https://localhost:8080/"
        },
        "id": "oH-fu-9PFc51",
        "outputId": "f0fca4c6-60bd-4fe4-d88b-e795b29f01f8"
      },
      "execution_count": null,
      "outputs": [
        {
          "output_type": "stream",
          "name": "stdout",
          "text": [
            "Number of dimensions:- 1\n",
            "Number of dimensions:- 2\n"
          ]
        }
      ]
    },
    {
      "cell_type": "code",
      "source": [
        "# Shape of array\n",
        "print(\"Shape:-\", Arr2.shape)\n",
        "print(\"Shape:-\", Arr6.shape)"
      ],
      "metadata": {
        "colab": {
          "base_uri": "https://localhost:8080/"
        },
        "id": "i6lFJO0OLgbc",
        "outputId": "b4187846-d5a9-4673-8da4-68e9b8c51a2b"
      },
      "execution_count": null,
      "outputs": [
        {
          "output_type": "stream",
          "name": "stdout",
          "text": [
            "Shape:- (5, 2)\n",
            "Shape:- (5, 5)\n"
          ]
        }
      ]
    },
    {
      "cell_type": "code",
      "source": [
        "# Size of array\n",
        "print(\"Size: \", Arr2.size)\n",
        "print(\"Size: \", Arr3.size)\n",
        "print(\"Size: \", Arr6.size)"
      ],
      "metadata": {
        "colab": {
          "base_uri": "https://localhost:8080/"
        },
        "id": "CFrGLfL5MkgO",
        "outputId": "df693e8f-955d-4d4e-83ab-4dedba8dea7f"
      },
      "execution_count": null,
      "outputs": [
        {
          "output_type": "stream",
          "name": "stdout",
          "text": [
            "Size:  10\n",
            "Size:  20\n",
            "Size:  25\n"
          ]
        }
      ]
    },
    {
      "cell_type": "code",
      "source": [
        "# Datatype Of array\n",
        "print(\"Type:-\", Arr2.dtype)\n",
        "print(\"Type:-\", Arr3.dtype)\n",
        "print(\"Type:-\", Arr6.dtype)"
      ],
      "metadata": {
        "colab": {
          "base_uri": "https://localhost:8080/"
        },
        "id": "5tPWi8uhOUeL",
        "outputId": "68a1fb29-cf1f-428d-e18a-4bc3922f3c0a"
      },
      "execution_count": null,
      "outputs": [
        {
          "output_type": "stream",
          "name": "stdout",
          "text": [
            "Type:- float64\n",
            "Type:- int64\n",
            "Type:- float64\n"
          ]
        }
      ]
    },
    {
      "cell_type": "code",
      "source": [
        "# change the Datatype\n",
        "print(\"Integer Array:-\",Arr4.astype('int'))\n",
        "print(\"Float Array:-\",Arr3.astype('float'))"
      ],
      "metadata": {
        "colab": {
          "base_uri": "https://localhost:8080/"
        },
        "id": "dqDCPwZFPMhz",
        "outputId": "daeee703-b99f-410c-c9b8-8e73d78cecc1"
      },
      "execution_count": null,
      "outputs": [
        {
          "output_type": "stream",
          "name": "stdout",
          "text": [
            "Integer Array:- [10 12 15 17 20]\n",
            "Float Array:- [ 0.  1.  2.  3.  4.  5.  6.  7.  8.  9. 10. 11. 12. 13. 14. 15. 16. 17.\n",
            " 18. 19.]\n"
          ]
        }
      ]
    },
    {
      "cell_type": "code",
      "source": [
        "# Size of each itme\n",
        "print(\"Itemsize:-\",Arr1.itemsize)\n",
        "print(\"Itemsize:-\",Arr2.itemsize)"
      ],
      "metadata": {
        "colab": {
          "base_uri": "https://localhost:8080/"
        },
        "id": "hU4CBoSoRH9t",
        "outputId": "c6ed6d22-1672-4061-b8f8-22dc38256a42"
      },
      "execution_count": null,
      "outputs": [
        {
          "output_type": "stream",
          "name": "stdout",
          "text": [
            "Itemsize:- 8\n",
            "Itemsize:- 8\n"
          ]
        }
      ]
    },
    {
      "cell_type": "code",
      "source": [
        "Arr3"
      ],
      "metadata": {
        "id": "wNPqgfRJSkhl",
        "colab": {
          "base_uri": "https://localhost:8080/"
        },
        "outputId": "17024bab-0d37-4c19-948e-4efd9c652eb2"
      },
      "execution_count": null,
      "outputs": [
        {
          "output_type": "execute_result",
          "data": {
            "text/plain": [
              "array([ 0,  1,  2,  3,  4,  5,  6,  7,  8,  9, 10, 11, 12, 13, 14, 15, 16,\n",
              "       17, 18, 19])"
            ]
          },
          "metadata": {},
          "execution_count": 21
        }
      ]
    },
    {
      "cell_type": "code",
      "source": [
        "# The first element\n",
        "print(Arr3[0])\n",
        "\n",
        "# The last Element\n",
        "print(Arr3[-1])\n"
      ],
      "metadata": {
        "colab": {
          "base_uri": "https://localhost:8080/"
        },
        "id": "YQA61f44GoxJ",
        "outputId": "54586cda-7965-473e-9d12-f55a2007f5f3"
      },
      "execution_count": null,
      "outputs": [
        {
          "output_type": "stream",
          "name": "stdout",
          "text": [
            "0\n",
            "19\n"
          ]
        }
      ]
    },
    {
      "cell_type": "code",
      "source": [
        "Arr7 = np.random.randint(10, size=(3,4))\n",
        "Arr7"
      ],
      "metadata": {
        "colab": {
          "base_uri": "https://localhost:8080/"
        },
        "id": "hCxFcTSkHXDI",
        "outputId": "f0711525-bcf4-43f8-ff57-4369ead2a4ea"
      },
      "execution_count": null,
      "outputs": [
        {
          "output_type": "execute_result",
          "data": {
            "text/plain": [
              "array([[5, 8, 0, 3],\n",
              "       [0, 8, 7, 6],\n",
              "       [6, 1, 6, 2]])"
            ]
          },
          "metadata": {},
          "execution_count": 32
        }
      ]
    },
    {
      "cell_type": "code",
      "source": [
        "# 2-Dimensional Array\n",
        "print(Arr7[0,2])\n",
        "\n",
        "# In=[part1 , part2]=[No.of Row , No.of Column]"
      ],
      "metadata": {
        "colab": {
          "base_uri": "https://localhost:8080/"
        },
        "id": "oW63HFkmIefh",
        "outputId": "b03840f2-84d8-4640-ddf6-9a102855ada2"
      },
      "execution_count": null,
      "outputs": [
        {
          "output_type": "stream",
          "name": "stdout",
          "text": [
            "3\n"
          ]
        }
      ]
    },
    {
      "cell_type": "code",
      "source": [
        "Arr7"
      ],
      "metadata": {
        "colab": {
          "base_uri": "https://localhost:8080/"
        },
        "id": "EF-q82ctJTW1",
        "outputId": "9c3fff60-98ba-46c9-ccac-e06ba404db65"
      },
      "execution_count": null,
      "outputs": [
        {
          "output_type": "execute_result",
          "data": {
            "text/plain": [
              "array([[5, 8, 0, 3],\n",
              "       [0, 8, 7, 6],\n",
              "       [6, 1, 6, 2]])"
            ]
          },
          "metadata": {},
          "execution_count": 33
        }
      ]
    },
    {
      "cell_type": "code",
      "source": [
        "# Modify Values\n",
        "Arr3[-1] = \"100\"\n",
        "print(Arr3) # One Dimensional\n",
        "print(\"---------------------------\")\n",
        "Arr7[(1,2),(2,2)] = \"10\"\n",
        "print(Arr7) # Two Dimensional"
      ],
      "metadata": {
        "colab": {
          "base_uri": "https://localhost:8080/"
        },
        "id": "GJvSnzagK92s",
        "outputId": "250034f2-7267-412e-b30e-5f042495a5d7"
      },
      "execution_count": null,
      "outputs": [
        {
          "output_type": "stream",
          "name": "stdout",
          "text": [
            "[  0   1   2   3   4   5   6   7   8   9  10  11  12  13  14  15  16  17\n",
            "  18 100]\n",
            "---------------------------\n",
            "[[ 5  8  0  3]\n",
            " [ 0  8 10  6]\n",
            " [ 6  1 10  2]]\n"
          ]
        }
      ]
    },
    {
      "cell_type": "code",
      "source": [
        "# Mind The Type\n",
        "Arr7[0,2]= 3.14\n",
        "Arr7"
      ],
      "metadata": {
        "colab": {
          "base_uri": "https://localhost:8080/"
        },
        "id": "NKD9wgqUL0xM",
        "outputId": "8867fb04-8d88-4bcf-8964-c2263e65ad8e"
      },
      "execution_count": null,
      "outputs": [
        {
          "output_type": "execute_result",
          "data": {
            "text/plain": [
              "array([[ 5,  8,  3,  3],\n",
              "       [ 0,  8, 10,  6],\n",
              "       [ 6,  1, 10,  2]])"
            ]
          },
          "metadata": {},
          "execution_count": 37
        }
      ]
    },
    {
      "cell_type": "code",
      "source": [
        "# First 10 elements\n",
        "print(Arr3[:10]) # starting from 0 to 10-1\n",
        "\n",
        "print(\"--------------------------\")\n",
        "\n",
        "# Elements from the 5th on\n",
        "print(Arr3[4:]) # starting from 5th to end\n",
        "\n",
        "print(\"--------------------------\")\n",
        "\n",
        "# Every four element\n",
        "print(Arr3[::4])"
      ],
      "metadata": {
        "colab": {
          "base_uri": "https://localhost:8080/"
        },
        "id": "tXpEf2WCNciZ",
        "outputId": "ad2abb6b-ce02-438d-c24e-35fb0e57860e"
      },
      "execution_count": null,
      "outputs": [
        {
          "output_type": "stream",
          "name": "stdout",
          "text": [
            "[0 1 2 3 4 5 6 7 8 9]\n",
            "--------------------------\n",
            "[  4   5   6   7   8   9  10  11  12  13  14  15  16  17  18 100]\n",
            "--------------------------\n",
            "[ 0  4  8 12 16]\n"
          ]
        }
      ]
    },
    {
      "cell_type": "code",
      "source": [
        "# Negative Steps\n",
        "print(Arr3[::-2])"
      ],
      "metadata": {
        "colab": {
          "base_uri": "https://localhost:8080/"
        },
        "id": "W-S-pVX6RLVa",
        "outputId": "84860e4d-b6b0-4e4d-d08a-40ebd0830833"
      },
      "execution_count": null,
      "outputs": [
        {
          "output_type": "stream",
          "name": "stdout",
          "text": [
            "[100  17  15  13  11   9   7   5   3   1]\n"
          ]
        }
      ]
    },
    {
      "cell_type": "code",
      "source": [
        "# Access Multidimensional Array\n",
        "Arr7[0,:]"
      ],
      "metadata": {
        "colab": {
          "base_uri": "https://localhost:8080/"
        },
        "id": "ery4acgrUOXV",
        "outputId": "d00f9f25-37cd-45da-8677-1c798d7e9484"
      },
      "execution_count": null,
      "outputs": [
        {
          "output_type": "execute_result",
          "data": {
            "text/plain": [
              "array([5, 8, 3, 3])"
            ]
          },
          "metadata": {},
          "execution_count": 40
        }
      ]
    },
    {
      "cell_type": "code",
      "source": [
        "# adding two Arrays\n",
        "new1 = np.array([1,3,5,7,9])\n",
        "new2 = np.array([2,4,6,8,10])\n",
        "print(np.concatenate([new1,new2]))"
      ],
      "metadata": {
        "colab": {
          "base_uri": "https://localhost:8080/"
        },
        "id": "zOFbidWsVWTy",
        "outputId": "1fb0640e-d9ae-4bfa-bf75-86d0ae11f73a"
      },
      "execution_count": null,
      "outputs": [
        {
          "output_type": "stream",
          "name": "stdout",
          "text": [
            "[ 1  3  5  7  9  2  4  6  8 10]\n"
          ]
        }
      ]
    },
    {
      "cell_type": "code",
      "source": [
        "# Creating 2 new Arrays\n",
        "A1 = np.arange(10)\n",
        "print(\"A1 =\",A1)\n",
        "print(\"--------------\")\n",
        "A2 = np.arange(10,20)\n",
        "print(\"A2 =\",A2)"
      ],
      "metadata": {
        "id": "wUxSnGMqWz5s",
        "colab": {
          "base_uri": "https://localhost:8080/"
        },
        "outputId": "97b60446-4327-4de8-8781-314080ad9c33"
      },
      "execution_count": null,
      "outputs": [
        {
          "output_type": "stream",
          "name": "stdout",
          "text": [
            "A1 = [0 1 2 3 4 5 6 7 8 9]\n",
            "--------------\n",
            "A2 = [10 11 12 13 14 15 16 17 18 19]\n"
          ]
        }
      ]
    },
    {
      "cell_type": "code",
      "source": [
        "# Add Operation\n",
        "print(\"A1+A2 =\",A1 + A2)\n",
        "\n",
        "print(\"-------------------\")\n",
        "# Use add() function\n",
        "A3 = np.add(A1,A2)\n",
        "print(\"A3 =\",A3)"
      ],
      "metadata": {
        "colab": {
          "base_uri": "https://localhost:8080/"
        },
        "id": "UqzBLWTkZNcx",
        "outputId": "bd5b7379-3d9e-4d52-a4a4-9eee96c5992c"
      },
      "execution_count": null,
      "outputs": [
        {
          "output_type": "stream",
          "name": "stdout",
          "text": [
            "A1+A2 = [10 12 14 16 18 20 22 24 26 28]\n",
            "-------------------\n",
            "A3 = [10 12 14 16 18 20 22 24 26 28]\n"
          ]
        }
      ]
    },
    {
      "cell_type": "code",
      "source": [
        "# Subtract Operation\n",
        "# use Subtract Operator\n",
        "print(\"A2-A1\",A2 - A1)\n",
        "\n",
        "print(\"-------------------\")\n",
        "\n",
        "# use subtract() function\n",
        "A4 = np.subtract(A2,A1)\n",
        "print(\"A4 =\",A4)"
      ],
      "metadata": {
        "colab": {
          "base_uri": "https://localhost:8080/"
        },
        "id": "1Q02P4EMageb",
        "outputId": "9ac62313-c9c8-4a95-f7ed-c606152903e0"
      },
      "execution_count": null,
      "outputs": [
        {
          "output_type": "stream",
          "name": "stdout",
          "text": [
            "A2-A1 [10 10 10 10 10 10 10 10 10 10]\n",
            "-------------------\n",
            "A4 = [10 10 10 10 10 10 10 10 10 10]\n"
          ]
        }
      ]
    },
    {
      "cell_type": "code",
      "source": [
        "# Multiplication Operation\n",
        "# use Multiplication Operator\n",
        "print(\"A3*A1\",A3 * A1)\n",
        "\n",
        "print(\"-------------------\")\n",
        "\n",
        "# use multiply() function\n",
        "A5 = np.multiply(A3,A1)\n",
        "print(\"A5 =\",A5)"
      ],
      "metadata": {
        "colab": {
          "base_uri": "https://localhost:8080/"
        },
        "id": "pb_-DBm1ePoy",
        "outputId": "20b36d59-2e00-450f-9e41-02dbf78cca6f"
      },
      "execution_count": null,
      "outputs": [
        {
          "output_type": "stream",
          "name": "stdout",
          "text": [
            "A3*A1 [  0  12  28  48  72 100 132 168 208 252]\n",
            "-------------------\n",
            "A5 = [  0  12  28  48  72 100 132 168 208 252]\n"
          ]
        }
      ]
    },
    {
      "cell_type": "code",
      "source": [
        "print(A3,A1)"
      ],
      "metadata": {
        "colab": {
          "base_uri": "https://localhost:8080/"
        },
        "id": "72HWMFuJhVWY",
        "outputId": "c91ec4d5-3250-4c62-b8c9-f9c98e8f3ac2"
      },
      "execution_count": null,
      "outputs": [
        {
          "output_type": "stream",
          "name": "stdout",
          "text": [
            "[10 12 14 16 18 20 22 24 26 28] [0 1 2 3 4 5 6 7 8 9]\n"
          ]
        }
      ]
    },
    {
      "cell_type": "code",
      "source": [
        "# Division Opreation\n",
        "# use Divide Opreator\n",
        "print(\"A5/A3\",A5 / A3)\n",
        "\n",
        "print(\"-------------------\")\n",
        "\n",
        "#use divide() function\n",
        "A6 = np.divide(A5,A3)\n",
        "print(\"A6 =\",A6)"
      ],
      "metadata": {
        "colab": {
          "base_uri": "https://localhost:8080/"
        },
        "id": "0COdfrifhisU",
        "outputId": "0a9d4008-727a-48a7-e9a1-1ec8f05f74e3"
      },
      "execution_count": null,
      "outputs": [
        {
          "output_type": "stream",
          "name": "stdout",
          "text": [
            "A5/A3 [0. 1. 2. 3. 4. 5. 6. 7. 8. 9.]\n",
            "-------------------\n",
            "A6 = [0. 1. 2. 3. 4. 5. 6. 7. 8. 9.]\n"
          ]
        }
      ]
    },
    {
      "cell_type": "code",
      "source": [
        "Ar1=np.arange(6).reshape(2,3)\n",
        "Ar2=np.arange(6,12).reshape(3,2)\n",
        "print(Ar1)\n",
        "print(Ar2)"
      ],
      "metadata": {
        "colab": {
          "base_uri": "https://localhost:8080/"
        },
        "id": "K-Dq9yLPjTxJ",
        "outputId": "3a8dd831-3310-4ef8-b857-76b85ba82403"
      },
      "execution_count": null,
      "outputs": [
        {
          "output_type": "stream",
          "name": "stdout",
          "text": [
            "[[0 1 2]\n",
            " [3 4 5]]\n",
            "[[ 6  7]\n",
            " [ 8  9]\n",
            " [10 11]]\n"
          ]
        }
      ]
    },
    {
      "cell_type": "code",
      "source": [
        "Ar1.dot(Ar2)"
      ],
      "metadata": {
        "colab": {
          "base_uri": "https://localhost:8080/"
        },
        "id": "L-njSnJPl0-4",
        "outputId": "2e3db2da-972f-44df-abea-99041bfbc80e"
      },
      "execution_count": null,
      "outputs": [
        {
          "output_type": "execute_result",
          "data": {
            "text/plain": [
              "array([[ 28,  31],\n",
              "       [100, 112]])"
            ]
          },
          "metadata": {},
          "execution_count": 15
        }
      ]
    },
    {
      "cell_type": "code",
      "source": [
        "A5"
      ],
      "metadata": {
        "colab": {
          "base_uri": "https://localhost:8080/"
        },
        "id": "wAwTi-75mItY",
        "outputId": "f675b4d3-dc5f-4f60-efce-8bc71391f9b0"
      },
      "execution_count": null,
      "outputs": [
        {
          "output_type": "execute_result",
          "data": {
            "text/plain": [
              "array([  0,  12,  28,  48,  72, 100, 132, 168, 208, 252])"
            ]
          },
          "metadata": {},
          "execution_count": 16
        }
      ]
    },
    {
      "cell_type": "code",
      "source": [
        "# minimum in Array\n",
        "print(\"Small no. =\",A5.min())\n",
        "print(\"-------------\")\n",
        "# maximum in Array\n",
        "print(\"Large no. =\",A5.max())\n",
        "print(\"-------------\")\n",
        "# Sum of Array\n",
        "print(\"Total sum =\",A5.sum())"
      ],
      "metadata": {
        "colab": {
          "base_uri": "https://localhost:8080/"
        },
        "id": "gj1XKixZtaKL",
        "outputId": "f0cdfa41-1dec-42ed-8aec-bf9192474a01"
      },
      "execution_count": null,
      "outputs": [
        {
          "output_type": "stream",
          "name": "stdout",
          "text": [
            "Small no. = 0\n",
            "-------------\n",
            "Large no. = 252\n",
            "-------------\n",
            "Total sum = 1020\n"
          ]
        }
      ]
    },
    {
      "cell_type": "code",
      "source": [
        "# medium value in array\n",
        "print(\"Medium no. =\",A5.mean())"
      ],
      "metadata": {
        "colab": {
          "base_uri": "https://localhost:8080/"
        },
        "id": "qEKw42ruuiXd",
        "outputId": "9c6f69bf-a835-4ad6-eaa6-968ef84267dd"
      },
      "execution_count": null,
      "outputs": [
        {
          "output_type": "stream",
          "name": "stdout",
          "text": [
            "Medium no. = 102.0\n"
          ]
        }
      ]
    },
    {
      "cell_type": "code",
      "source": [
        "# Absolute value\n",
        "print(np.abs(A4))\n",
        "print(np.abs(A3))"
      ],
      "metadata": {
        "colab": {
          "base_uri": "https://localhost:8080/"
        },
        "id": "AJRLMjGEvhnV",
        "outputId": "60fb2b3f-9797-4310-e60a-41068778cf34"
      },
      "execution_count": null,
      "outputs": [
        {
          "output_type": "stream",
          "name": "stdout",
          "text": [
            "[10 10 10 10 10 10 10 10 10 10]\n",
            "[10 12 14 16 18 20 22 24 26 28]\n"
          ]
        }
      ]
    },
    {
      "cell_type": "code",
      "source": [
        "# Square Root\n",
        "print(np.sqrt(A3))\n",
        "print(\"-------------------------x\")\n",
        "print(np.sqrt(A5))"
      ],
      "metadata": {
        "id": "kpkUTBgd9EDc",
        "colab": {
          "base_uri": "https://localhost:8080/"
        },
        "outputId": "815bc6c6-cc50-4d59-f8f0-fc685bd6a270"
      },
      "execution_count": null,
      "outputs": [
        {
          "output_type": "stream",
          "name": "stdout",
          "text": [
            "[3.16227766 3.46410162 3.74165739 4.         4.24264069 4.47213595\n",
            " 4.69041576 4.89897949 5.09901951 5.29150262]\n",
            "-------------------------x\n",
            "[ 0.          3.46410162  5.29150262  6.92820323  8.48528137 10.\n",
            " 11.48912529 12.9614814  14.4222051  15.87450787]\n"
          ]
        }
      ]
    },
    {
      "cell_type": "code",
      "source": [
        "# Exponential Value\n",
        "print(np.exp(A3))"
      ],
      "metadata": {
        "id": "xkfHOoCO_pEO",
        "colab": {
          "base_uri": "https://localhost:8080/"
        },
        "outputId": "60eca33e-a3ee-46f4-b837-e6229f5c8549"
      },
      "execution_count": null,
      "outputs": [
        {
          "output_type": "stream",
          "name": "stdout",
          "text": [
            "[2.20264658e+04 1.62754791e+05 1.20260428e+06 8.88611052e+06\n",
            " 6.56599691e+07 4.85165195e+08 3.58491285e+09 2.64891221e+10\n",
            " 1.95729609e+11 1.44625706e+12]\n"
          ]
        }
      ]
    },
    {
      "cell_type": "code",
      "source": [
        "# Square Value\n",
        "print(np.square(A3))\n",
        "print(\"-------------------------x\")\n",
        "print(np.square(A2))"
      ],
      "metadata": {
        "colab": {
          "base_uri": "https://localhost:8080/"
        },
        "id": "Bw4Po0xrB1ft",
        "outputId": "7a0bf94c-4460-44c7-9d3e-21705b85d979"
      },
      "execution_count": null,
      "outputs": [
        {
          "output_type": "stream",
          "name": "stdout",
          "text": [
            "[100 144 196 256 324 400 484 576 676 784]\n",
            "-------------------------x\n",
            "[100 121 144 169 196 225 256 289 324 361]\n"
          ]
        }
      ]
    },
    {
      "cell_type": "code",
      "source": [
        "# numpy.reshape() Function\n",
        "a1 = np.arange(8)\n",
        "print(\"Original array =\", a1)\n",
        "print(\"--------------------------------------\")\n",
        "\n",
        "# shape array with 2 rows and 4 columns\n",
        "a2 = np.arange(8).reshape(2, 4)\n",
        "print(\"array reshaped with 2 rows and 4 columns = \\n\",a2)\n",
        "print(\"--------------------------------------\")\n",
        "\n",
        "# shape array with 4 rows and 2 columns\n",
        "a3 = np.arange(8).reshape(4, 2)\n",
        "print(\"array reshaped with 4 rows and 2 columns = \\n\",a3)\n",
        "print(\"--------------------------------------\")\n",
        "\n",
        "# Constructs 3D array\n",
        "a4 = np.arange(8).reshape(2, 2, 2)\n",
        "print(\"Original array reshaped to 3D = \\n\",a4)"
      ],
      "metadata": {
        "id": "DGt5QX-JC_sY",
        "colab": {
          "base_uri": "https://localhost:8080/"
        },
        "outputId": "614e9c98-3320-4583-e3f8-00089e72cc91"
      },
      "execution_count": null,
      "outputs": [
        {
          "output_type": "stream",
          "name": "stdout",
          "text": [
            "Original array = [0 1 2 3 4 5 6 7]\n",
            "--------------------------------------\n",
            "array reshaped with 2 rows and 4 columns = \n",
            " [[0 1 2 3]\n",
            " [4 5 6 7]]\n",
            "--------------------------------------\n",
            "array reshaped with 4 rows and 2 columns = \n",
            " [[0 1]\n",
            " [2 3]\n",
            " [4 5]\n",
            " [6 7]]\n",
            "--------------------------------------\n",
            "Original array reshaped to 3D = \n",
            " [[[0 1]\n",
            "  [2 3]]\n",
            "\n",
            " [[4 5]\n",
            "  [6 7]]]\n"
          ]
        }
      ]
    },
    {
      "cell_type": "code",
      "source": [
        "# numpy.ravel() Function\n",
        "array = np.arange(15).reshape(3, 5)\n",
        "print(\"Original array : \\n\", array)\n",
        "print(\"--------------------------------------\")\n",
        "\n",
        "# Convert one numpy array into a single column\n",
        "# showing output in Python\n",
        "print(\"Single Column =\", array.ravel())"
      ],
      "metadata": {
        "colab": {
          "base_uri": "https://localhost:8080/"
        },
        "id": "X-erVAeHdXuY",
        "outputId": "ba02db05-c503-4420-b5ca-3f4f38018d8d"
      },
      "execution_count": null,
      "outputs": [
        {
          "output_type": "stream",
          "name": "stdout",
          "text": [
            "Original array : \n",
            " [[ 0  1  2  3  4]\n",
            " [ 5  6  7  8  9]\n",
            " [10 11 12 13 14]]\n",
            "--------------------------------------\n",
            "Single Column = [ 0  1  2  3  4  5  6  7  8  9 10 11 12 13 14]\n"
          ]
        }
      ]
    },
    {
      "cell_type": "code",
      "source": [
        "# numpy.transpose() Function\n",
        "# making a 3x3 array\n",
        "array1 = np.array([[1, 2, 3],[4, 5, 6],[7, 8, 9]])\n",
        "\n",
        "# before transpose\n",
        "print(\"Before Transpose : \\n\",array1)\n",
        "print(\"--------------------------------------\")\n",
        "# after transpose\n",
        "print(\"After Transpose : \\n\",array1.transpose())"
      ],
      "metadata": {
        "colab": {
          "base_uri": "https://localhost:8080/"
        },
        "id": "oTKzVtmkgRK7",
        "outputId": "cb8e42b6-9327-48cf-cc5c-1b58b19789b9"
      },
      "execution_count": null,
      "outputs": [
        {
          "output_type": "stream",
          "name": "stdout",
          "text": [
            "Before Transpose : \n",
            " [[1 2 3]\n",
            " [4 5 6]\n",
            " [7 8 9]]\n",
            "--------------------------------------\n",
            "After Transpose : \n",
            " [[1 4 7]\n",
            " [2 5 8]\n",
            " [3 6 9]]\n"
          ]
        }
      ]
    },
    {
      "cell_type": "code",
      "source": [
        "# stacking Array\n",
        "# input array\n",
        "a = np.array([1, 2, 3])\n",
        "b = np.array([4, 5, 6])\n",
        "\n",
        "# Stacking 2 1-d arrays\n",
        "c = np.stack((a, b))\n",
        "print(\"Stack array : \\n\",c)"
      ],
      "metadata": {
        "colab": {
          "base_uri": "https://localhost:8080/"
        },
        "id": "CQrxBcAqkqA-",
        "outputId": "bafa3f1b-e37d-4a41-bbf9-87f9a8721e0e"
      },
      "execution_count": null,
      "outputs": [
        {
          "output_type": "stream",
          "name": "stdout",
          "text": [
            "Stack array : \n",
            " [[1 2 3]\n",
            " [4 5 6]]\n"
          ]
        }
      ]
    },
    {
      "cell_type": "code",
      "source": [
        "# Vertical & Horizontal Stacking\n",
        "a1 = np.array([[1,2,3],[4,5,6],[7,8,9]])\n",
        "b1 = np.array([[11,12,13],[13,14,15],[16,17,18]])\n",
        "print(\"Original array :\\n\", a1)\n",
        "print(\"--------------------------------------\")\n",
        "print(\"Original array :\\n\", b1)\n",
        "print(\"--------------------------------------\")\n",
        "print(\"Vertical stacking : \\n\",np.vstack((a1,b1)))\n",
        "print(\"--------------------------------------\")\n",
        "print(\"Horizontal stacking : \\n\",np.hstack((a1,b1)))"
      ],
      "metadata": {
        "colab": {
          "base_uri": "https://localhost:8080/"
        },
        "id": "ikEoXSi7ngO8",
        "outputId": "d20a03d2-c417-4ba6-a6a6-0470d0c4951e"
      },
      "execution_count": null,
      "outputs": [
        {
          "output_type": "stream",
          "name": "stdout",
          "text": [
            "Original array :\n",
            " [[1 2 3]\n",
            " [4 5 6]\n",
            " [7 8 9]]\n",
            "--------------------------------------\n",
            "Original array :\n",
            " [[11 12 13]\n",
            " [13 14 15]\n",
            " [16 17 18]]\n",
            "--------------------------------------\n",
            "Vertical stacking : \n",
            " [[ 1  2  3]\n",
            " [ 4  5  6]\n",
            " [ 7  8  9]\n",
            " [11 12 13]\n",
            " [13 14 15]\n",
            " [16 17 18]]\n",
            "--------------------------------------\n",
            "Horizontal stacking : \n",
            " [[ 1  2  3 11 12 13]\n",
            " [ 4  5  6 13 14 15]\n",
            " [ 7  8  9 16 17 18]]\n"
          ]
        }
      ]
    },
    {
      "cell_type": "code",
      "source": [
        "# Simple array\n",
        "a1 = np.arange(8).reshape(2,4)\n",
        "a2 = np.arange(8,16).reshape(2,4)\n",
        "\n",
        "print(\"Array1 =\\n\",a1)\n",
        "print(\"--------------------------------------\")\n",
        "print(\"Array2 =\\n\",a2)\n",
        "print(\"--------------------------------------\")\n",
        "a1 + a2"
      ],
      "metadata": {
        "colab": {
          "base_uri": "https://localhost:8080/"
        },
        "id": "cTpxABTitLyR",
        "outputId": "de8c24a5-a761-4da1-bfd5-7962d06e01ae"
      },
      "execution_count": null,
      "outputs": [
        {
          "output_type": "stream",
          "name": "stdout",
          "text": [
            "Array1 =\n",
            " [[0 1 2 3]\n",
            " [4 5 6 7]]\n",
            "--------------------------------------\n",
            "Array2 =\n",
            " [[ 8  9 10 11]\n",
            " [12 13 14 15]]\n",
            "--------------------------------------\n"
          ]
        },
        {
          "output_type": "execute_result",
          "data": {
            "text/plain": [
              "array([[ 8, 10, 12, 14],\n",
              "       [16, 18, 20, 22]])"
            ]
          },
          "metadata": {},
          "execution_count": 23
        }
      ]
    },
    {
      "cell_type": "code",
      "source": [
        "# scenario 2\n",
        "a3 = np.arange(9).reshape(3,3)\n",
        "a4 = np.arange(3).reshape(1,3)\n",
        "\n",
        "print(\"Array1 =\\n\",a3)\n",
        "print(\"--------------------------------------\")\n",
        "print(\"Array2 =\\n\",a4)\n",
        "print(\"--------------------------------------\")\n",
        "a3 + a4"
      ],
      "metadata": {
        "colab": {
          "base_uri": "https://localhost:8080/"
        },
        "id": "J3QuZ3v00l8u",
        "outputId": "69bf0b6e-9bef-4806-99d7-f9b0854e6894"
      },
      "execution_count": null,
      "outputs": [
        {
          "output_type": "stream",
          "name": "stdout",
          "text": [
            "Array1 =\n",
            " [[0 1 2]\n",
            " [3 4 5]\n",
            " [6 7 8]]\n",
            "--------------------------------------\n",
            "Array2 =\n",
            " [[0 1 2]]\n",
            "--------------------------------------\n"
          ]
        },
        {
          "output_type": "execute_result",
          "data": {
            "text/plain": [
              "array([[ 0,  2,  4],\n",
              "       [ 3,  5,  7],\n",
              "       [ 6,  8, 10]])"
            ]
          },
          "metadata": {},
          "execution_count": 24
        }
      ]
    },
    {
      "cell_type": "code",
      "source": [
        "# If x=m and y=n,operation will take place\n",
        "a1 = np.arange(8).reshape(2,4)\n",
        "a2 = np.arange(8,16).reshape(2,4)\n",
        "\n",
        "print(\"Array1 =\\n\",a1)\n",
        "print(\"--------------------------------------\")\n",
        "print(\"Array2 =\\n\",a2)\n",
        "print(\"--------------------------------------\")\n",
        "a1 + a2"
      ],
      "metadata": {
        "colab": {
          "base_uri": "https://localhost:8080/"
        },
        "outputId": "b73036a0-7481-495e-ff54-5f79b10b2013",
        "id": "iaoAmafo4EjK"
      },
      "execution_count": null,
      "outputs": [
        {
          "output_type": "stream",
          "name": "stdout",
          "text": [
            "Array1 =\n",
            " [[0 1 2 3]\n",
            " [4 5 6 7]]\n",
            "--------------------------------------\n",
            "Array2 =\n",
            " [[ 8  9 10 11]\n",
            " [12 13 14 15]]\n",
            "--------------------------------------\n"
          ]
        },
        {
          "output_type": "execute_result",
          "data": {
            "text/plain": [
              "array([[ 8, 10, 12, 14],\n",
              "       [16, 18, 20, 22]])"
            ]
          },
          "metadata": {},
          "execution_count": 25
        }
      ]
    },
    {
      "cell_type": "code",
      "source": [
        "# If x=1 and y=n then also operation will take place(same dimension)\n",
        "a4 = np.arange(3).reshape(1,3)\n",
        "a5 = np.arange(12).reshape(4,3)\n",
        "\n",
        "print(\"Array1 =\\n\",a4)\n",
        "print(\"--------------------------------------\")\n",
        "print(\"Array2 =\\n\",a5)\n",
        "print(\"--------------------------------------\")\n",
        "a4 + a5"
      ],
      "metadata": {
        "colab": {
          "base_uri": "https://localhost:8080/"
        },
        "id": "0JYqVE7p4nrl",
        "outputId": "1d88c373-29f5-4ba4-e443-766518186cf9"
      },
      "execution_count": null,
      "outputs": [
        {
          "output_type": "stream",
          "name": "stdout",
          "text": [
            "Array1 =\n",
            " [[0 1 2]]\n",
            "--------------------------------------\n",
            "Array2 =\n",
            " [[ 0  1  2]\n",
            " [ 3  4  5]\n",
            " [ 6  7  8]\n",
            " [ 9 10 11]]\n",
            "--------------------------------------\n"
          ]
        },
        {
          "output_type": "execute_result",
          "data": {
            "text/plain": [
              "array([[ 0,  2,  4],\n",
              "       [ 3,  5,  7],\n",
              "       [ 6,  8, 10],\n",
              "       [ 9, 11, 13]])"
            ]
          },
          "metadata": {},
          "execution_count": 26
        }
      ]
    },
    {
      "cell_type": "code",
      "source": [
        "# If y=1 and x=m then also operation will take place,even if\n",
        "# they are not of the same dimension\n",
        "\n",
        "a6 = np.arange(4).reshape(4,1)\n",
        "a7 = np.arange(12).reshape(4,3)\n",
        "\n",
        "print(\"Array1 =\\n\",a6)\n",
        "print(\"--------------------------------------\")\n",
        "print(\"Array2 =\\n\",a7)\n",
        "print(\"--------------------------------------\")\n",
        "a6 + a7"
      ],
      "metadata": {
        "colab": {
          "base_uri": "https://localhost:8080/"
        },
        "id": "GDkDVoLy72dG",
        "outputId": "17518cd4-6c91-40a1-b005-758565110176"
      },
      "execution_count": null,
      "outputs": [
        {
          "output_type": "stream",
          "name": "stdout",
          "text": [
            "Array1 =\n",
            " [[0]\n",
            " [1]\n",
            " [2]\n",
            " [3]]\n",
            "--------------------------------------\n",
            "Array2 =\n",
            " [[ 0  1  2]\n",
            " [ 3  4  5]\n",
            " [ 6  7  8]\n",
            " [ 9 10 11]]\n",
            "--------------------------------------\n"
          ]
        },
        {
          "output_type": "execute_result",
          "data": {
            "text/plain": [
              "array([[ 0,  1,  2],\n",
              "       [ 4,  5,  6],\n",
              "       [ 8,  9, 10],\n",
              "       [12, 13, 14]])"
            ]
          },
          "metadata": {},
          "execution_count": 27
        }
      ]
    },
    {
      "cell_type": "markdown",
      "source": [
        "END"
      ],
      "metadata": {
        "id": "z2_p8b8tYFAG"
      }
    }
  ]
}